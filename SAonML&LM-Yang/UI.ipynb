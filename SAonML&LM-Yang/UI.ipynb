{
 "cells": [
  {
   "cell_type": "code",
   "execution_count": 1,
   "metadata": {},
   "outputs": [
    {
     "name": "stderr",
     "output_type": "stream",
     "text": [
      "c:\\anaconda\\envs\\transformers\\lib\\site-packages\\tqdm\\auto.py:21: TqdmWarning: IProgress not found. Please update jupyter and ipywidgets. See https://ipywidgets.readthedocs.io/en/stable/user_install.html\n",
      "  from .autonotebook import tqdm as notebook_tqdm\n"
     ]
    },
    {
     "name": "stdout",
     "output_type": "stream",
     "text": [
      "Running on local URL:  http://127.0.0.1:7860\n",
      "\n",
      "To create a public link, set `share=True` in `launch()`.\n"
     ]
    },
    {
     "data": {
      "text/html": [
       "<div><iframe src=\"http://127.0.0.1:7860/\" width=\"100%\" height=\"500\" allow=\"autoplay; camera; microphone; clipboard-read; clipboard-write;\" frameborder=\"0\" allowfullscreen></iframe></div>"
      ],
      "text/plain": [
       "<IPython.core.display.HTML object>"
      ]
     },
     "metadata": {},
     "output_type": "display_data"
    },
    {
     "data": {
      "text/plain": []
     },
     "execution_count": 1,
     "metadata": {},
     "output_type": "execute_result"
    }
   ],
   "source": [
    "from sklearn.feature_extraction.text import TfidfVectorizer\n",
    "from sklearn.model_selection import train_test_split\n",
    "from datasets import load_dataset\n",
    "import pandas as pd\n",
    "from sklearn.metrics import accuracy_score\n",
    "from tqdm import tqdm\n",
    "import numpy as np\n",
    "import gradio as gr\n",
    "def clff(Symptom):\n",
    "    dataset = pd.read_csv('Symptom2Disease.csv', encoding='ISO-8859-1')\n",
    "    dataset = dataset.dropna()\n",
    "    dataset = dataset.drop_duplicates(subset='text')\n",
    "    dataset = dataset[['label','text']]\n",
    "    # 获取 'label' 列中每个类别的数量\n",
    "\n",
    "    datas = dataset\n",
    "    texts = np.array(datas['text'])\n",
    "    labels = np.array(datas['label'])\n",
    "    texts_train, texts_test, labels_train, labels_test = train_test_split(texts, labels, test_size=0.3, random_state=42)\n",
    "    #vectorize the text\n",
    "    vectorizer = TfidfVectorizer()\n",
    "    X_train = vectorizer.fit_transform(texts_train)\n",
    "    X_test = vectorizer.transform(texts_test)\n",
    "    from sklearn.svm import SVC\n",
    "    clf = SVC()\n",
    "    clf = SVC(kernel='rbf')\n",
    "\n",
    "    clf.fit(X_train, labels_train)\n",
    "\n",
    "    Symptom=vectorizer.transform([Symptom])\n",
    "    Disease= f\"Based on your symptoms, you may suffer from  {str(clf.predict(Symptom)[0])}\"\n",
    "    return Disease\n",
    "\n",
    "iface = gr.Interface(fn=clff, inputs=gr.Textbox(), outputs=gr.Textbox())\n",
    "iface.launch()\n",
    "\n",
    "\n"
   ]
  },
  {
   "cell_type": "code",
   "execution_count": null,
   "metadata": {},
   "outputs": [],
   "source": []
  }
 ],
 "metadata": {
  "kernelspec": {
   "display_name": "transformers",
   "language": "python",
   "name": "transformers"
  },
  "language_info": {
   "codemirror_mode": {
    "name": "ipython",
    "version": 3
   },
   "file_extension": ".py",
   "mimetype": "text/x-python",
   "name": "python",
   "nbconvert_exporter": "python",
   "pygments_lexer": "ipython3",
   "version": "3.9.19"
  }
 },
 "nbformat": 4,
 "nbformat_minor": 2
}
